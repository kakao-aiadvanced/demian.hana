{
  "nbformat": 4,
  "nbformat_minor": 0,
  "metadata": {
    "colab": {
      "provenance": []
    },
    "kernelspec": {
      "name": "python3",
      "display_name": "Python 3"
    },
    "language_info": {
      "name": "python"
    }
  },
  "cells": [
    {
      "cell_type": "markdown",
      "source": [
        ">>> What are the best places in Korea?\n",
        "Korea is a beautiful country with a rich history, vibrant culture, and\n",
        "stunning natural scenery. Here are some of the best places to visit in\n",
        "Korea:\n",
        "\n",
        "**Natural Wonders:**\n",
        "\n",
        "1. Jeju Island: A volcanic island with breathtaking landscapes,\n",
        "waterfalls, and black sand beaches.\n",
        "2. Seoraksan National Park: A mountain range with beautiful scenery,\n",
        "temples, and traditional villages.\n",
        "3. Hallasan Mountain: The highest peak on the Korean Peninsula, offering\n",
        "stunning views and hiking trails.\n",
        "\n",
        "**Cities:**\n",
        "\n",
        "1. Seoul: The capital city, known for its vibrant nightlife, shopping\n",
        "districts (Myeong-dong, Gangnam), and historical landmarks like\n",
        "Gyeongbokgung Palace.\n",
        "2. Busan: Korea's second-largest city, famous for its beaches, seafood,\n",
        "and bustling markets like Jagalchi Market.\n",
        "3. Jeonju: A city known for its traditional hanok villages, delicious food\n",
        "(e.g., bibimbap), and the annual Jeonju International Film Festival.\n",
        "\n",
        "**Historical Sites:**\n",
        "\n",
        "1. Gyeongbokgung Palace: The largest palace in Korea, built in 1395.\n",
        "2. Bulguksa Temple: A UNESCO World Heritage Site, famous for its stunning\n",
        "architecture and beautiful gardens.\n",
        "3. Jongmyo Shrine: A historic shrine dedicated to the ancestors of Korean\n",
        "royalty.\n",
        "\n",
        "**Food and Drink:**\n",
        "\n",
        "1. Myeong-dong Night Market: A popular market in Seoul offering a variety\n",
        "of street food, snacks, and souvenirs.\n",
        "2. Gwangjang Market: Another famous market in Seoul, known for its\n",
        "traditional Korean street food.\n",
        "3. Hwaseong Fortress: A historic fort built during the Joseon Dynasty, now\n",
        "a UNESCO World Heritage Site.\n",
        "\n",
        "**Other Must-Visit Places:**\n",
        "\n",
        "1. Demilitarized Zone (DMZ): The border between North and South Korea, offering a\n",
        "glimpse into the country's history and politics.\n",
        "2. Nami Island: A peaceful island with beautiful scenery, perfect for a relaxing\n",
        "day trip from Seoul.\n",
        "3. Gangneung: A city in the countryside known for its natural beauty, traditional\n",
        "villages, and cultural events like the Cherry Blossom Festival.\n",
        "\n",
        "These are just a few of the many amazing places to visit in Korea. Depending on\n",
        "your interests, there are plenty more hidden gems to discover!"
      ],
      "metadata": {
        "id": "L0E-c1V9iudA"
      }
    },
    {
      "cell_type": "markdown",
      "source": [],
      "metadata": {
        "id": "VczXfgC6iyD4"
      }
    },
    {
      "cell_type": "code",
      "execution_count": 8,
      "metadata": {
        "colab": {
          "base_uri": "https://localhost:8080/"
        },
        "id": "p0DX4-Z1cO2h",
        "outputId": "c0738e26-c6fd-430a-b9e3-90d337c31a9a"
      },
      "outputs": [
        {
          "output_type": "stream",
          "name": "stdout",
          "text": [
            "Requirement already satisfied: openai in /usr/local/lib/python3.10/dist-packages (1.52.2)\n",
            "Requirement already satisfied: anyio<5,>=3.5.0 in /usr/local/lib/python3.10/dist-packages (from openai) (3.7.1)\n",
            "Requirement already satisfied: distro<2,>=1.7.0 in /usr/lib/python3/dist-packages (from openai) (1.7.0)\n",
            "Requirement already satisfied: httpx<1,>=0.23.0 in /usr/local/lib/python3.10/dist-packages (from openai) (0.27.2)\n",
            "Requirement already satisfied: jiter<1,>=0.4.0 in /usr/local/lib/python3.10/dist-packages (from openai) (0.6.1)\n",
            "Requirement already satisfied: pydantic<3,>=1.9.0 in /usr/local/lib/python3.10/dist-packages (from openai) (2.9.2)\n",
            "Requirement already satisfied: sniffio in /usr/local/lib/python3.10/dist-packages (from openai) (1.3.1)\n",
            "Requirement already satisfied: tqdm>4 in /usr/local/lib/python3.10/dist-packages (from openai) (4.66.5)\n",
            "Requirement already satisfied: typing-extensions<5,>=4.11 in /usr/local/lib/python3.10/dist-packages (from openai) (4.12.2)\n",
            "Requirement already satisfied: idna>=2.8 in /usr/local/lib/python3.10/dist-packages (from anyio<5,>=3.5.0->openai) (3.10)\n",
            "Requirement already satisfied: exceptiongroup in /usr/local/lib/python3.10/dist-packages (from anyio<5,>=3.5.0->openai) (1.2.2)\n",
            "Requirement already satisfied: certifi in /usr/local/lib/python3.10/dist-packages (from httpx<1,>=0.23.0->openai) (2024.8.30)\n",
            "Requirement already satisfied: httpcore==1.* in /usr/local/lib/python3.10/dist-packages (from httpx<1,>=0.23.0->openai) (1.0.6)\n",
            "Requirement already satisfied: h11<0.15,>=0.13 in /usr/local/lib/python3.10/dist-packages (from httpcore==1.*->httpx<1,>=0.23.0->openai) (0.14.0)\n",
            "Requirement already satisfied: annotated-types>=0.6.0 in /usr/local/lib/python3.10/dist-packages (from pydantic<3,>=1.9.0->openai) (0.7.0)\n",
            "Requirement already satisfied: pydantic-core==2.23.4 in /usr/local/lib/python3.10/dist-packages (from pydantic<3,>=1.9.0->openai) (2.23.4)\n"
          ]
        }
      ],
      "source": [
        "!pip install openai"
      ]
    },
    {
      "cell_type": "markdown",
      "source": [
        "from openai import OpenAI\n",
        "client = OpenAI()\n",
        "\n",
        "completion = client.chat.completions.create(\n",
        "    model=\"gpt-4o-mini\",\n",
        "    messages=[\n",
        "        {\"role\": \"system\", \"content\": \"You are a helpful assistant.\"},\n",
        "        {\n",
        "            \"role\": \"user\",\n",
        "            \"content\": \"Write a haiku about recursion in programming.\"\n",
        "        }\n",
        "    ]\n",
        ")\n",
        "\n",
        "print(completion.choices[0].message)"
      ],
      "metadata": {
        "id": "AP74iXXmiZze"
      }
    },
    {
      "cell_type": "code",
      "source": [
        "from openai import OpenAI\n",
        "client = OpenAI(\n",
        "    api_key=\"API_KEY\"\n",
        ")\n"
      ],
      "metadata": {
        "id": "Vh4x7BB4iFWX"
      },
      "execution_count": 20,
      "outputs": []
    },
    {
      "cell_type": "code",
      "source": [
        "def call_gpt(system_prompt: str, user_prompt: str):\n",
        "    response = client.chat.completions.create(\n",
        "        model=\"gpt-3.5-turbo\",\n",
        "        messages=[\n",
        "            {\"role\": \"system\", \"content\": system_prompt},\n",
        "            {\"role\": \"user\", \"content\": user_prompt},\n",
        "        ]\n",
        "    )\n",
        "\n",
        "    return response.choices[0].message.content"
      ],
      "metadata": {
        "id": "J1drEXb7i4qP"
      },
      "execution_count": null,
      "outputs": []
    },
    {
      "cell_type": "code",
      "source": [
        "prompt = \"\"\"\n",
        "다음 텍스트를 한국말로 번역\n",
        "1. cat -> 고양이\n",
        "2. cow -> 소\n",
        "3. lion -> 사자\n",
        "4. tiger -> 호랑이\n",
        "\"\"\"\n",
        "\n",
        "completion = client.chat.completions.create(\n",
        "    model=\"gpt-4o-mini\",\n",
        "    messages=[\n",
        "        {\"role\": \"system\", \"content\": prompt},\n",
        "        {\n",
        "            \"role\": \"user\",\n",
        "            \"content\": \"human\"\n",
        "        }\n",
        "    ]\n",
        ")\n",
        "\n",
        "print(completion.choices[0].message)"
      ],
      "metadata": {
        "colab": {
          "base_uri": "https://localhost:8080/"
        },
        "id": "haLLeGvyiH4p",
        "outputId": "08debebd-cfd3-48de-c163-393f061295e2"
      },
      "execution_count": 22,
      "outputs": [
        {
          "output_type": "stream",
          "name": "stdout",
          "text": [
            "ChatCompletionMessage(content='인간', refusal=None, role='assistant', audio=None, function_call=None, tool_calls=None)\n"
          ]
        }
      ]
    },
    {
      "cell_type": "code",
      "source": [],
      "metadata": {
        "id": "kPolq_GTiH74"
      },
      "execution_count": null,
      "outputs": []
    },
    {
      "cell_type": "code",
      "source": [],
      "metadata": {
        "id": "Iv8IkhTZgtbI"
      },
      "execution_count": null,
      "outputs": []
    }
  ]
}
